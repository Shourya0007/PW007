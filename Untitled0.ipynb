{
  "nbformat": 4,
  "nbformat_minor": 0,
  "metadata": {
    "colab": {
      "name": "Untitled0.ipynb",
      "provenance": [],
      "authorship_tag": "ABX9TyN5QihWYZveYhoB+fLYmfhN",
      "include_colab_link": true
    },
    "kernelspec": {
      "name": "python3",
      "display_name": "Python 3"
    },
    "language_info": {
      "name": "python"
    }
  },
  "cells": [
    {
      "cell_type": "markdown",
      "metadata": {
        "id": "view-in-github",
        "colab_type": "text"
      },
      "source": [
        "<a href=\"https://colab.research.google.com/github/Shourya0007/PW007/blob/main/Untitled0.ipynb\" target=\"_parent\"><img src=\"https://colab.research.google.com/assets/colab-badge.svg\" alt=\"Open In Colab\"/></a>"
      ]
    },
    {
      "cell_type": "code",
      "metadata": {
        "colab": {
          "base_uri": "https://localhost:8080/"
        },
        "id": "lXzAaU01qfn0",
        "outputId": "d7107186-7607-4173-d416-3a75f857394b"
      },
      "source": [
        "#data insertion with Google Colab\n",
        "#Install Cassandra db\n",
        "!pip install cassandra-driver"
      ],
      "execution_count": 10,
      "outputs": [
        {
          "output_type": "stream",
          "text": [
            "Requirement already satisfied: cassandra-driver in /usr/local/lib/python3.7/dist-packages (3.25.0)\n",
            "Requirement already satisfied: geomet<0.3,>=0.1 in /usr/local/lib/python3.7/dist-packages (from cassandra-driver) (0.2.1.post1)\n",
            "Requirement already satisfied: six>=1.9 in /usr/local/lib/python3.7/dist-packages (from cassandra-driver) (1.15.0)\n",
            "Requirement already satisfied: click in /usr/local/lib/python3.7/dist-packages (from geomet<0.3,>=0.1->cassandra-driver) (7.1.2)\n"
          ],
          "name": "stdout"
        }
      ]
    },
    {
      "cell_type": "code",
      "metadata": {
        "id": "1GZXf-Jps-Zf"
      },
      "source": [
        "import cassandra\n",
        "from cassandra.auth import PlainTextAuthProvider\n",
        "from cassandra.cluster import Cluster\n",
        "from ssl import PROTOCOL_TLSv1_2, SSLContext, CERT_NONE\n",
        "from requests.utils import  DEFAULT_CA_BUNDLE_PATH\n",
        "\n",
        "\n",
        "ssl_context = SSLContext(PROTOCOL_TLSv1_2)\n",
        "ssl_context.verify_mode= CERT_NONE\n",
        "\n",
        "auth_provider = PlainTextAuthProvider(username='pwcass',password='4npxDaR2mxA6Gbj3zlKpAzAGaK7vQrl6jP7szCW7LsAWE9vSaeBOWcvOUfAzrRi4MDPk3jla2QCSkEh7XlNMoQ==')\n",
        "cluster = Cluster(['pwcass.cassandra.cosmos.azure.com'], port = 10350, auth_provider=auth_provider, ssl_context=ssl_context)\n",
        "session = cluster.connect()"
      ],
      "execution_count": 13,
      "outputs": []
    },
    {
      "cell_type": "code",
      "metadata": {
        "colab": {
          "base_uri": "https://localhost:8080/"
        },
        "id": "fn5Rg9NYw_XG",
        "outputId": "a7e7a2bc-a4d0-40a5-b01f-5b058fe88327"
      },
      "source": [
        "session.execute('CREATE KEYSPACE IF NOT EXISTS PW007 WITH replication={\\'class\\': \\'NetworkTopologyStrategy\\',\\'datacenter\\':\\'1\\'}')"
      ],
      "execution_count": 14,
      "outputs": [
        {
          "output_type": "execute_result",
          "data": {
            "text/plain": [
              "<cassandra.cluster.ResultSet at 0x7f8c75761b90>"
            ]
          },
          "metadata": {
            "tags": []
          },
          "execution_count": 14
        }
      ]
    },
    {
      "cell_type": "code",
      "metadata": {
        "colab": {
          "base_uri": "https://localhost:8080/"
        },
        "id": "b7HX6lJvtHv1",
        "outputId": "7514a902-5a39-43a3-8f89-95787dd742e2"
      },
      "source": [
        "session.execute('CREATE TABLE IF NOT EXISTS PW007.cities(user_id int PRIMARY KEY, username text, user_bcity text)')"
      ],
      "execution_count": 21,
      "outputs": [
        {
          "output_type": "execute_result",
          "data": {
            "text/plain": [
              "<cassandra.cluster.ResultSet at 0x7f8c6dc75c10>"
            ]
          },
          "metadata": {
            "tags": []
          },
          "execution_count": 21
        }
      ]
    },
    {
      "cell_type": "code",
      "metadata": {
        "colab": {
          "base_uri": "https://localhost:8080/"
        },
        "id": "M0wYXY0d62yI",
        "outputId": "2d0282d0-ec35-4808-fea3-6ac01014d78c"
      },
      "source": [
        "session.execute(\"INSERT INTO PW007.cities (user_id, username, user_bcity) VALUES (%s,%s,%s)\",[1, 'John','Seattle'])\n",
        "session.execute(\"INSERT INTO PW007.cities (user_id, username, user_bcity) VALUES (%s,%s,%s)\",[2, 'Jay','Dubai'])\n",
        "session.execute(\"INSERT INTO PW007.cities (user_id, username, user_bcity) VALUES (%s,%s,%s)\",[3, 'Jam','Chennai'])\n",
        "session.execute(\"INSERT INTO PW007.cities (user_id, username, user_bcity) VALUES (%s,%s,%s)\",[4, 'Jon','Pune'])\n",
        "session.execute(\"INSERT INTO PW007.cities (user_id, username, user_bcity) VALUES (%s,%s,%s)\",[5, 'Johnathan','Mumbai'])\n",
        "session.execute(\"INSERT INTO PW007.cities (user_id, username, user_bcity) VALUES (%s,%s,%s)\",[6, 'Raj','Bangalore'])\n",
        "session.execute(\"INSERT INTO PW007.cities (user_id, username, user_bcity) VALUES (%s,%s,%s)\",[7, 'Ram','Belgaum'])\n",
        "session.execute(\"INSERT INTO PW007.cities (user_id, username, user_bcity) VALUES (%s,%s,%s)\",[8, 'Johny','New York'])\n",
        "session.execute(\"INSERT INTO PW007.cities (user_id, username, user_bcity) VALUES (%s,%s,%s)\",[9, 'Tupac','Texas'])\n",
        "session.execute(\"INSERT INTO PW007.cities (user_id, username, user_bcity) VALUES (%s,%s,%s)\",[10, 'Jojo','California'])"
      ],
      "execution_count": 35,
      "outputs": [
        {
          "output_type": "execute_result",
          "data": {
            "text/plain": [
              "<cassandra.cluster.ResultSet at 0x7f8c6db59bd0>"
            ]
          },
          "metadata": {
            "tags": []
          },
          "execution_count": 35
        }
      ]
    },
    {
      "cell_type": "code",
      "metadata": {
        "colab": {
          "base_uri": "https://localhost:8080/"
        },
        "id": "-UkHEiKT95JQ",
        "outputId": "3e18a690-546e-483e-fe58-2241be75a55b"
      },
      "source": [
        "from prettytable import PrettyTable \n",
        "\n",
        "def PrintTable(rows):\n",
        "    t = PrettyTable(['UserID','Name','City'])\n",
        "    for r in rows:\n",
        "      t.add_row([r.user_id, r.username, r.user_bcity])\n",
        "    print(t)\n",
        "\n",
        "\n",
        "\n",
        "rows = session.execute('SELECT * FROM PW007.cities')\n",
        "PrintTable(rows)"
      ],
      "execution_count": 36,
      "outputs": [
        {
          "output_type": "stream",
          "text": [
            "+--------+-----------+------------+\n",
            "| UserID |    Name   |    City    |\n",
            "+--------+-----------+------------+\n",
            "|   5    | Johnathan |   Mumbai   |\n",
            "|   6    |    Raj    | Bangalore  |\n",
            "|   7    |    Ram    |  Belgaum   |\n",
            "|   2    |    Jay    |   Dubai    |\n",
            "|   9    |   Tupac   |   Texas    |\n",
            "|   3    |    Jam    |  Chennai   |\n",
            "|   10   |    Jojo   | California |\n",
            "|   4    |    Jon    |    Pune    |\n",
            "|   1    |    John   |  Seattle   |\n",
            "|   8    |   Johny   |  New York  |\n",
            "+--------+-----------+------------+\n"
          ],
          "name": "stdout"
        }
      ]
    },
    {
      "cell_type": "code",
      "metadata": {
        "colab": {
          "base_uri": "https://localhost:8080/"
        },
        "id": "sX_Ffvp5-XZH",
        "outputId": "b732b7af-1ffb-4414-f668-96f3ab3c5768"
      },
      "source": [
        "rows = session.execute('SELECT * FROM PW.cities WHERE user_id = 9')\n",
        "PrintTable(rows)"
      ],
      "execution_count": 37,
      "outputs": [
        {
          "output_type": "stream",
          "text": [
            "+--------+-------+-------+\n",
            "| UserID |  Name |  City |\n",
            "+--------+-------+-------+\n",
            "|   9    | Tupac | Texas |\n",
            "+--------+-------+-------+\n"
          ],
          "name": "stdout"
        }
      ]
    },
    {
      "cell_type": "code",
      "metadata": {
        "colab": {
          "base_uri": "https://localhost:8080/"
        },
        "id": "QntUgP6jBrdp",
        "outputId": "fd681f26-7fbb-4027-ffe0-f422c560022d"
      },
      "source": [
        "session.execute(\"CREATE TABLE IF NOT EXISTS PW007.rankbyyearandname(race_year int , race_name text, cyclist_name text, rank int, PRIMARY KEY((race_year, race_name), rank) );\")"
      ],
      "execution_count": 25,
      "outputs": [
        {
          "output_type": "execute_result",
          "data": {
            "text/plain": [
              "<cassandra.cluster.ResultSet at 0x7f8c6dd02310>"
            ]
          },
          "metadata": {
            "tags": []
          },
          "execution_count": 25
        }
      ]
    },
    {
      "cell_type": "code",
      "metadata": {
        "colab": {
          "base_uri": "https://localhost:8080/"
        },
        "id": "gLSZ_jZAB0NT",
        "outputId": "7c9d00ac-d826-44d9-9cb6-3f633a234b63"
      },
      "source": [
        "session.execute(\"INSERT INTO PW007.rankbyyearandname (race_year, race_name, cyclist_name, rank ) VALUES (%s,%s,%s,%s)\",[2015, 'Tour of Italy','Raj', 1])\n",
        "session.execute(\"INSERT INTO PW007.rankbyyearandname (race_year, race_name, cyclist_name, rank ) VALUES (%s,%s,%s,%s)\",[2014, 'Tour of France','Raju', 2])\n",
        "session.execute(\"INSERT INTO PW007.rankbyyearandname (race_year, race_name, cyclist_name, rank ) VALUES (%s,%s,%s,%s)\",[2018, 'Tour of Japan','Raje', 3])\n",
        "session.execute(\"INSERT INTO PW007.rankbyyearandname (race_year, race_name, cyclist_name, rank ) VALUES (%s,%s,%s,%s)\",[2019, 'Tour of Australia','Rajt', 4])\n",
        "session.execute(\"INSERT INTO PW007.rankbyyearandname (race_year, race_name, cyclist_name, rank ) VALUES (%s,%s,%s,%s)\",[2005, 'Tour of Autria','Rajy', 5])\n",
        "session.execute(\"INSERT INTO PW007.rankbyyearandname (race_year, race_name, cyclist_name, rank ) VALUES (%s,%s,%s,%s)\",[2021, '4th Tour of Italy','Rajt', 6])\n",
        "session.execute(\"INSERT INTO PW007.rankbyyearandname (race_year, race_name, cyclist_name, rank ) VALUES (%s,%s,%s,%s)\",[2007, '4th Tour of France','Rajg', 7])\n",
        "session.execute(\"INSERT INTO PW007.rankbyyearandname (race_year, race_name, cyclist_name, rank ) VALUES (%s,%s,%s,%s)\",[2004, '4th Tour of Autria','Rajd', 8])\n",
        "session.execute(\"INSERT INTO PW007.rankbyyearandname (race_year, race_name, cyclist_name, rank ) VALUES (%s,%s,%s,%s)\",[1992, '4th Tour of Australia','Rajs', 9])\n",
        "session.execute(\"INSERT INTO PW007.rankbyyearandname (race_year, race_name, cyclist_name, rank ) VALUES (%s,%s,%s,%s)\",[1998, '4th Tour of Japan','Rajg', 10])\n",
        "session.execute(\"INSERT INTO PW007.rankbyyearandname (race_year, race_name, cyclist_name, rank ) VALUES (%s,%s,%s,%s)\",[1987, '4th Tour of China','Rajk', 11])"
      ],
      "execution_count": 26,
      "outputs": [
        {
          "output_type": "execute_result",
          "data": {
            "text/plain": [
              "<cassandra.cluster.ResultSet at 0x7f8c6dc28250>"
            ]
          },
          "metadata": {
            "tags": []
          },
          "execution_count": 26
        }
      ]
    },
    {
      "cell_type": "code",
      "metadata": {
        "colab": {
          "base_uri": "https://localhost:8080/"
        },
        "id": "62BP2Y42Jeqw",
        "outputId": "24bda15a-c3b3-4ab4-f866-04d5aee79679"
      },
      "source": [
        "session.execute(\"CREATE TYPE PW007.basic_info(birthday timestamp,  nationality text, weight text, height text)\")"
      ],
      "execution_count": 27,
      "outputs": [
        {
          "output_type": "execute_result",
          "data": {
            "text/plain": [
              "<cassandra.cluster.ResultSet at 0x7f8c6dd7e110>"
            ]
          },
          "metadata": {
            "tags": []
          },
          "execution_count": 27
        }
      ]
    },
    {
      "cell_type": "code",
      "metadata": {
        "colab": {
          "base_uri": "https://localhost:8080/"
        },
        "id": "1uiqP4bCJuj0",
        "outputId": "b6ad7d11-c6d8-489a-9a29-31897e8a4066"
      },
      "source": [
        "session.execute(\"CREATE TABLE PW007.cycling_stats (id uuid PRIMARY KEY, lastname text, basics FROZEN<basic_info>);\")"
      ],
      "execution_count": 28,
      "outputs": [
        {
          "output_type": "execute_result",
          "data": {
            "text/plain": [
              "<cassandra.cluster.ResultSet at 0x7f8c6dbf6d90>"
            ]
          },
          "metadata": {
            "tags": []
          },
          "execution_count": 28
        }
      ]
    },
    {
      "cell_type": "code",
      "metadata": {
        "colab": {
          "base_uri": "https://localhost:8080/"
        },
        "id": "Qcibv9uSKKKr",
        "outputId": "61b4acd8-a229-4292-ad8c-6323d15d7477"
      },
      "source": [
        "session.execute(\"INSERT INTO PW007.cycling_stats (id, lastname, basics ) VALUES (8b845131-c8b2-4197-84e6-f713de36f496, 'FRAME',{ birthday: '1993-08-18', nationality: 'India', weight:null, height:null});\")"
      ],
      "execution_count": 29,
      "outputs": [
        {
          "output_type": "execute_result",
          "data": {
            "text/plain": [
              "<cassandra.cluster.ResultSet at 0x7f8c6db9d510>"
            ]
          },
          "metadata": {
            "tags": []
          },
          "execution_count": 29
        }
      ]
    },
    {
      "cell_type": "code",
      "metadata": {
        "colab": {
          "base_uri": "https://localhost:8080/"
        },
        "id": "maDreyAyKwcd",
        "outputId": "0f042530-1ba7-400a-9284-7c3852daa77b"
      },
      "source": [
        "session.execute(\"CREATE TYPE PW007.race (race_title text, race_date timestamp, race_time text);\")\n",
        "session.execute(\"CREATE TABLE PW007.cyclist_races (id uuid PRIMARY KEY, lastname text, firstname text, races list<FROZEN<race>>);\")"
      ],
      "execution_count": 30,
      "outputs": [
        {
          "output_type": "execute_result",
          "data": {
            "text/plain": [
              "<cassandra.cluster.ResultSet at 0x7f8c6dcbc3d0>"
            ]
          },
          "metadata": {
            "tags": []
          },
          "execution_count": 30
        }
      ]
    },
    {
      "cell_type": "code",
      "metadata": {
        "colab": {
          "base_uri": "https://localhost:8080/"
        },
        "id": "XnHlJwt5LF3T",
        "outputId": "6f2f63b4-b77c-475b-f487-4c33c23c72d6"
      },
      "source": [
        "session.execute(\"INSERT INTO PW007.cyclist_races (id, lastname, firstname, races ) VALUES (7da4b41e-8a42-4dc0-ba50-6c928fcf254a, 'Los','Mary', [{ race_title: 'PREM RACE', race_date:'09-09-2018', race_time:'09:50'},{ race_title: 'PREM1 RACE', race_date:'09-09-2008', race_time:'08:50'}]);\")"
      ],
      "execution_count": 32,
      "outputs": [
        {
          "output_type": "execute_result",
          "data": {
            "text/plain": [
              "<cassandra.cluster.ResultSet at 0x7f8c6dc04450>"
            ]
          },
          "metadata": {
            "tags": []
          },
          "execution_count": 32
        }
      ]
    },
    {
      "cell_type": "code",
      "metadata": {
        "colab": {
          "base_uri": "https://localhost:8080/"
        },
        "id": "T2xm-0mNLpSZ",
        "outputId": "92035324-c468-45ba-9ef0-db19e1a3cc13"
      },
      "source": [
        "def PrintTable(rows):\n",
        "    t = PrettyTable(['id','lastname','firstname','races'])\n",
        "    for r in rows:\n",
        "      t.add_row([r.id, r.lastname, r.firstname,r.races])\n",
        "    print(t)\n",
        "\n",
        "rows = session.execute('SELECT * FROM PW007.cyclist_races LIMIT 5')\n",
        "PrintTable(rows)"
      ],
      "execution_count": 38,
      "outputs": [
        {
          "output_type": "stream",
          "text": [
            "+--------------------------------------+----------+-----------+---------------------------------------------------------------------------------------------------------------------------------------------------------------------------------------------------+\n",
            "|                  id                  | lastname | firstname |                                                                                               races                                                                                               |\n",
            "+--------------------------------------+----------+-----------+---------------------------------------------------------------------------------------------------------------------------------------------------------------------------------------------------+\n",
            "| 7da4b41e-8a42-4dc0-ba50-6c928fcf254a |   Los    |    Mary   | [race(race_title='PREM RACE', race_date=datetime.datetime(2018, 9, 9, 0, 0), race_time='09:50'), race(race_title='PREM1 RACE', race_date=datetime.datetime(2008, 9, 9, 0, 0), race_time='08:50')] |\n",
            "+--------------------------------------+----------+-----------+---------------------------------------------------------------------------------------------------------------------------------------------------------------------------------------------------+\n"
          ],
          "name": "stdout"
        }
      ]
    }
  ]
}